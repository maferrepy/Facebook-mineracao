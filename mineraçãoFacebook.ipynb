{
  "nbformat": 4,
  "nbformat_minor": 0,
  "metadata": {
    "colab": {
      "name": "mineraçãoFacebook.ipynb",
      "provenance": [],
      "collapsed_sections": [],
      "authorship_tag": "ABX9TyMFrqLl6Eqc+aDl7g3hjOa3",
      "include_colab_link": true
    },
    "kernelspec": {
      "name": "python3",
      "display_name": "Python 3"
    },
    "language_info": {
      "name": "python"
    }
  },
  "cells": [
    {
      "cell_type": "markdown",
      "metadata": {
        "id": "view-in-github",
        "colab_type": "text"
      },
      "source": [
        "<a href=\"https://colab.research.google.com/github/maferrepy/Facebook-mineracao/blob/main/minera%C3%A7%C3%A3oFacebook.ipynb\" target=\"_parent\"><img src=\"https://colab.research.google.com/assets/colab-badge.svg\" alt=\"Open In Colab\"/></a>"
      ]
    },
    {
      "cell_type": "code",
      "execution_count": null,
      "metadata": {
        "colab": {
          "base_uri": "https://localhost:8080/"
        },
        "id": "PN8SqP3N8icB",
        "outputId": "4f991b79-06f5-4bf4-f0f1-cec788c30725"
      },
      "outputs": [
        {
          "output_type": "stream",
          "name": "stdout",
          "text": [
            "Collecting facebook_sdk\n",
            "  Downloading facebook_sdk-3.1.0-py2.py3-none-any.whl (7.5 kB)\n",
            "Requirement already satisfied: requests in /usr/local/lib/python3.7/dist-packages (from facebook_sdk) (2.23.0)\n",
            "Requirement already satisfied: chardet<4,>=3.0.2 in /usr/local/lib/python3.7/dist-packages (from requests->facebook_sdk) (3.0.4)\n",
            "Requirement already satisfied: certifi>=2017.4.17 in /usr/local/lib/python3.7/dist-packages (from requests->facebook_sdk) (2021.10.8)\n",
            "Requirement already satisfied: idna<3,>=2.5 in /usr/local/lib/python3.7/dist-packages (from requests->facebook_sdk) (2.10)\n",
            "Requirement already satisfied: urllib3!=1.25.0,!=1.25.1,<1.26,>=1.21.1 in /usr/local/lib/python3.7/dist-packages (from requests->facebook_sdk) (1.24.3)\n",
            "Installing collected packages: facebook-sdk\n",
            "Successfully installed facebook-sdk-3.1.0\n"
          ]
        }
      ],
      "source": [
        "!pip install facebook_sdk"
      ]
    },
    {
      "cell_type": "code",
      "source": [
        "!pip install plotly --upgrade"
      ],
      "metadata": {
        "colab": {
          "base_uri": "https://localhost:8080/"
        },
        "id": "n4Nrirbd9iKa",
        "outputId": "3761cada-51b0-4eea-9c6f-ac0577d1edba"
      },
      "execution_count": null,
      "outputs": [
        {
          "output_type": "stream",
          "name": "stdout",
          "text": [
            "Requirement already satisfied: plotly in /usr/local/lib/python3.7/dist-packages (5.5.0)\n",
            "Collecting plotly\n",
            "  Downloading plotly-5.7.0-py2.py3-none-any.whl (28.8 MB)\n",
            "\u001b[K     |████████████████████████████████| 28.8 MB 1.6 MB/s \n",
            "\u001b[?25hRequirement already satisfied: six in /usr/local/lib/python3.7/dist-packages (from plotly) (1.15.0)\n",
            "Requirement already satisfied: tenacity>=6.2.0 in /usr/local/lib/python3.7/dist-packages (from plotly) (8.0.1)\n",
            "Installing collected packages: plotly\n",
            "  Attempting uninstall: plotly\n",
            "    Found existing installation: plotly 5.5.0\n",
            "    Uninstalling plotly-5.5.0:\n",
            "      Successfully uninstalled plotly-5.5.0\n",
            "Successfully installed plotly-5.7.0\n"
          ]
        }
      ]
    },
    {
      "cell_type": "markdown",
      "source": [
        "## Mineração de dados"
      ],
      "metadata": {
        "id": "phAEJThS8oJG"
      }
    },
    {
      "cell_type": "code",
      "source": [
        "import facebook\n",
        "import requests\n",
        "import pandas as pd\n",
        "import numpy as np\n",
        "import plotly.express as px\n"
      ],
      "metadata": {
        "id": "zCFgnk9L9C2R"
      },
      "execution_count": null,
      "outputs": []
    },
    {
      "cell_type": "code",
      "source": [
        "app_id = '318972870343243'\n",
        "app_secret = '67b615a1f14adf16518b56c6f4a207ef'\n",
        "user_short_token = 'EAAEiGqihOksBALD5IvNsGvcXHtIkkKLLuCCAVZBCNZAXijxfpPbzPi4XBdVqrEEY7qAgbmmksSZAR7stRZBKlFZA7zZBpjCRV5oPbaTQJslp4LFmINA1pw0ymHQHLhjk0nFHbPfPMofKZBVaM4RfIu3TNMePie07pq2v1AuaAMXmsSLicw6y8aAHL5k0KrZBIlPclW9iABhyOwZDZD'"
      ],
      "metadata": {
        "id": "tZIs2rLs9dQg"
      },
      "execution_count": null,
      "outputs": []
    },
    {
      "cell_type": "code",
      "source": [
        "url = 'https://graph.facebook.com/oauth/access_token'"
      ],
      "metadata": {
        "id": "rtXbUYuw_FhA"
      },
      "execution_count": null,
      "outputs": []
    },
    {
      "cell_type": "code",
      "source": [
        "parameters = {'grant_type':'fb_exchange_token',\n",
        "             'client_id': app_id,            \n",
        "             'client_secret': app_secret, \n",
        "             'fb_exchange_token':user_short_token }"
      ],
      "metadata": {
        "id": "f-mFinNv_iRv"
      },
      "execution_count": null,
      "outputs": []
    },
    {
      "cell_type": "code",
      "source": [
        "response = requests.get(url,params=parameters)"
      ],
      "metadata": {
        "id": "4SWTRHC_AaKR"
      },
      "execution_count": null,
      "outputs": []
    },
    {
      "cell_type": "code",
      "source": [
        "\n",
        "Response_json = response.json()\n",
        "Response_json"
      ],
      "metadata": {
        "colab": {
          "base_uri": "https://localhost:8080/"
        },
        "id": "d9493Lw2BfZQ",
        "outputId": "3e415b68-99dd-4b59-e830-ce9bebab386f"
      },
      "execution_count": null,
      "outputs": [
        {
          "output_type": "execute_result",
          "data": {
            "text/plain": [
              "{'access_token': 'EAAEiGqihOksBAJ2qwsG27lUlYd3Ds3NA35cKqc3HQDt8wLNQScvQLY4WC2MPZBxUrzqVGUxveAommEtRmsnq4VXrSnqBZCEU8a4ZBZCK9e8RjxTZACMZB7Jz0oy5KZBBN7zIQID1uDWfQpqwg8VozqWZBMUxzSkAfTjof46IkfpXJAZDZD',\n",
              " 'token_type': 'bearer'}"
            ]
          },
          "metadata": {},
          "execution_count": 15
        }
      ]
    },
    {
      "cell_type": "code",
      "source": [
        "user_long_token = Response_json['access_token']\n",
        "user_long_token"
      ],
      "metadata": {
        "colab": {
          "base_uri": "https://localhost:8080/",
          "height": 72
        },
        "id": "U68ObEZ4CGb7",
        "outputId": "bd5676ce-d57c-4c96-d923-b3fa37af5d73"
      },
      "execution_count": null,
      "outputs": [
        {
          "output_type": "execute_result",
          "data": {
            "text/plain": [
              "'EAAEiGqihOksBAJ2qwsG27lUlYd3Ds3NA35cKqc3HQDt8wLNQScvQLY4WC2MPZBxUrzqVGUxveAommEtRmsnq4VXrSnqBZCEU8a4ZBZCK9e8RjxTZACMZB7Jz0oy5KZBBN7zIQID1uDWfQpqwg8VozqWZBMUxzSkAfTjof46IkfpXJAZDZD'"
            ],
            "application/vnd.google.colaboratory.intrinsic+json": {
              "type": "string"
            }
          },
          "metadata": {},
          "execution_count": 16
        }
      ]
    },
    {
      "cell_type": "code",
      "source": [
        "graph = facebook.GraphAPI(access_token=user_long_token, version='3.1')"
      ],
      "metadata": {
        "id": "O6fiSm9-CxPN"
      },
      "execution_count": null,
      "outputs": []
    },
    {
      "cell_type": "code",
      "source": [
        "dados_pagina = graph.get_object('/me/accounts')\n",
        "dados_pagina"
      ],
      "metadata": {
        "id": "C5MyIRO9DR5C",
        "colab": {
          "base_uri": "https://localhost:8080/"
        },
        "outputId": "c4a856ae-4b99-4a7d-ba8e-30e0f135173f"
      },
      "execution_count": null,
      "outputs": [
        {
          "output_type": "execute_result",
          "data": {
            "text/plain": [
              "{'data': [{'access_token': 'EAAEiGqihOksBAPqpR70MHh6H5ZAk7bmaZAd2sAbZAC77tvHygZABgo8ZCaAlZCBXmJdZBreSFDSmNimzyBkOxkHE0owjQs7kjQZAglhYDfbGY5ZBQfrTBcknCzrHW1Nh3mZBaLGtKKwCbNj0PI37wAKekVZACVJFvvnWrMuX1UP6trMe94UR7emfnBO',\n",
              "   'category': 'Produto/serviço',\n",
              "   'category_list': [{'id': '2201', 'name': 'Produto/serviço'}],\n",
              "   'id': '101178325019418',\n",
              "   'name': 'Programação para Trader',\n",
              "   'tasks': ['ANALYZE',\n",
              "    'ADVERTISE',\n",
              "    'MESSAGING',\n",
              "    'MODERATE',\n",
              "    'CREATE_CONTENT',\n",
              "    'MANAGE']},\n",
              "  {'access_token': 'EAAEiGqihOksBAGJf7bj2GJZChMrhTTVTupF5iTUbXhUFUNZC4mIAlkvYfWToGkjZBMZCA5IcXpJv2S6f8wqbPNHxob4jhpnhaSgLdHpP5KJj1iNyRLpHC9PYfOh8k7DZB4hJCIwj2Wd2MKGYTdQZANGkNiVBsZAgJWXe0lWxsZCJMCzXmZA7fAM98',\n",
              "   'category': 'Infraestrutura urbana',\n",
              "   'category_list': [{'id': '1713595685546855',\n",
              "     'name': 'Infraestrutura urbana'},\n",
              "    {'id': '2233', 'name': 'Empresa de mídia/notícias'}],\n",
              "   'id': '101382425841318',\n",
              "   'name': 'Portal de Trânsito Fazenda Rio Grande',\n",
              "   'tasks': ['ANALYZE',\n",
              "    'ADVERTISE',\n",
              "    'MESSAGING',\n",
              "    'MODERATE',\n",
              "    'CREATE_CONTENT',\n",
              "    'MANAGE']}],\n",
              " 'paging': {'cursors': {'after': 'MTAxMzgyNDI1ODQxMzE4',\n",
              "   'before': 'MTAxMTc4MzI1MDE5NDE4'}}}"
            ]
          },
          "metadata": {},
          "execution_count": 19
        }
      ]
    },
    {
      "cell_type": "code",
      "source": [
        "permant_page_token = dados_pagina['data'][1]['access_token']\n",
        "permant_page_token"
      ],
      "metadata": {
        "id": "mpNrxi7cDt4W",
        "colab": {
          "base_uri": "https://localhost:8080/",
          "height": 72
        },
        "outputId": "7d2bed88-d4d7-4aac-b7aa-a9b2d8330814"
      },
      "execution_count": null,
      "outputs": [
        {
          "output_type": "execute_result",
          "data": {
            "text/plain": [
              "'EAAEiGqihOksBAGJf7bj2GJZChMrhTTVTupF5iTUbXhUFUNZC4mIAlkvYfWToGkjZBMZCA5IcXpJv2S6f8wqbPNHxob4jhpnhaSgLdHpP5KJj1iNyRLpHC9PYfOh8k7DZB4hJCIwj2Wd2MKGYTdQZANGkNiVBsZAgJWXe0lWxsZCJMCzXmZA7fAM98'"
            ],
            "application/vnd.google.colaboratory.intrinsic+json": {
              "type": "string"
            }
          },
          "metadata": {},
          "execution_count": 20
        }
      ]
    },
    {
      "cell_type": "code",
      "source": [
        "page_id = dados_pagina['data'][1]['id']\n",
        "page_id"
      ],
      "metadata": {
        "id": "vL8oTTLGEGfs",
        "colab": {
          "base_uri": "https://localhost:8080/",
          "height": 36
        },
        "outputId": "59c9cfe0-b538-4d86-db01-26bb506e33c9"
      },
      "execution_count": null,
      "outputs": [
        {
          "output_type": "execute_result",
          "data": {
            "text/plain": [
              "'101382425841318'"
            ],
            "application/vnd.google.colaboratory.intrinsic+json": {
              "type": "string"
            }
          },
          "metadata": {},
          "execution_count": 21
        }
      ]
    },
    {
      "cell_type": "code",
      "source": [
        "graph =facebook.GraphAPI(access_token = permant_page_token, version=3.1 )"
      ],
      "metadata": {
        "id": "Jwh4YjJINP1y"
      },
      "execution_count": null,
      "outputs": []
    },
    {
      "cell_type": "code",
      "source": [
        "graph.get_object(id=page_id, fields= 'category')"
      ],
      "metadata": {
        "colab": {
          "base_uri": "https://localhost:8080/"
        },
        "id": "lzRyfOzvOS6H",
        "outputId": "3050fe56-058f-41da-8b17-3bc96b5634fa"
      },
      "execution_count": null,
      "outputs": [
        {
          "output_type": "execute_result",
          "data": {
            "text/plain": [
              "{'category': 'Infraestrutura urbana', 'id': '101382425841318'}"
            ]
          },
          "metadata": {},
          "execution_count": 23
        }
      ]
    },
    {
      "cell_type": "code",
      "source": [
        "graph.get_object(id=page_id, fields= 'engagement')"
      ],
      "metadata": {
        "colab": {
          "base_uri": "https://localhost:8080/"
        },
        "id": "VQs_h9ICOzaC",
        "outputId": "8199b463-63ec-490c-cfac-12abb380b224"
      },
      "execution_count": null,
      "outputs": [
        {
          "output_type": "execute_result",
          "data": {
            "text/plain": [
              "{'engagement': {'count': 128, 'social_sentence': '128 pessoas curtiram isso.'},\n",
              " 'id': '101382425841318'}"
            ]
          },
          "metadata": {},
          "execution_count": 24
        }
      ]
    },
    {
      "cell_type": "code",
      "source": [
        "graph.get_object(id=page_id, fields= 'followers_count')\n"
      ],
      "metadata": {
        "colab": {
          "base_uri": "https://localhost:8080/"
        },
        "id": "3Pkhe7dkTm_M",
        "outputId": "bdb0b3d8-fb3b-43a9-ff0a-57191e262026"
      },
      "execution_count": null,
      "outputs": [
        {
          "output_type": "execute_result",
          "data": {
            "text/plain": [
              "{'followers_count': 128, 'id': '101382425841318'}"
            ]
          },
          "metadata": {},
          "execution_count": 25
        }
      ]
    },
    {
      "cell_type": "code",
      "source": [
        "graph.get_connections(id=page_id, connection_name= 'insights', metric= 'page_fans')"
      ],
      "metadata": {
        "colab": {
          "base_uri": "https://localhost:8080/"
        },
        "id": "dvEjwQNeVWYj",
        "outputId": "cb7e9c6c-43a7-4627-ec47-3d449e769cb2"
      },
      "execution_count": null,
      "outputs": [
        {
          "output_type": "execute_result",
          "data": {
            "text/plain": [
              "{'data': [{'description': 'Lifetime: The total number of people who have liked your Page. (Unique Users)',\n",
              "   'id': '101382425841318/insights/page_fans/day',\n",
              "   'name': 'page_fans',\n",
              "   'period': 'day',\n",
              "   'title': 'Lifetime Total Likes',\n",
              "   'values': [{'end_time': '2022-05-01T07:00:00+0000', 'value': 126},\n",
              "    {'end_time': '2022-05-02T07:00:00+0000', 'value': 126}]}],\n",
              " 'paging': {'next': 'https://graph.facebook.com/v13.0/101382425841318/insights?access_token=EAAEiGqihOksBAGJf7bj2GJZChMrhTTVTupF5iTUbXhUFUNZC4mIAlkvYfWToGkjZBMZCA5IcXpJv2S6f8wqbPNHxob4jhpnhaSgLdHpP5KJj1iNyRLpHC9PYfOh8k7DZB4hJCIwj2Wd2MKGYTdQZANGkNiVBsZAgJWXe0lWxsZCJMCzXmZA7fAM98&metric=page_fans&since=1651474800&until=1651647600',\n",
              "  'previous': 'https://graph.facebook.com/v13.0/101382425841318/insights?access_token=EAAEiGqihOksBAGJf7bj2GJZChMrhTTVTupF5iTUbXhUFUNZC4mIAlkvYfWToGkjZBMZCA5IcXpJv2S6f8wqbPNHxob4jhpnhaSgLdHpP5KJj1iNyRLpHC9PYfOh8k7DZB4hJCIwj2Wd2MKGYTdQZANGkNiVBsZAgJWXe0lWxsZCJMCzXmZA7fAM98&metric=page_fans&since=1651129200&until=1651302000'}}"
            ]
          },
          "metadata": {},
          "execution_count": 26
        }
      ]
    },
    {
      "cell_type": "code",
      "source": [
        "fas = graph.get_connections(id=page_id, connection_name= 'insights', metric= 'page_fans', \n",
        "                      since= '2022-02-18', until = '2022-05-18')\n"
      ],
      "metadata": {
        "id": "d3jy6FWWW2Ip"
      },
      "execution_count": null,
      "outputs": []
    },
    {
      "cell_type": "code",
      "source": [
        "type(fas),type(fas['data'])"
      ],
      "metadata": {
        "colab": {
          "base_uri": "https://localhost:8080/"
        },
        "id": "B6AFGoHGtqFM",
        "outputId": "f244fec4-1346-40a2-d1a9-26e994f13759"
      },
      "execution_count": null,
      "outputs": [
        {
          "output_type": "execute_result",
          "data": {
            "text/plain": [
              "(dict, list)"
            ]
          },
          "metadata": {},
          "execution_count": 30
        }
      ]
    },
    {
      "cell_type": "code",
      "source": [
        "type(fas['data'][0]['values'])"
      ],
      "metadata": {
        "colab": {
          "base_uri": "https://localhost:8080/"
        },
        "id": "eIMUsGpsufGk",
        "outputId": "de73ac66-42cf-4376-e7ab-2a87c1a1b7e3"
      },
      "execution_count": null,
      "outputs": [
        {
          "output_type": "execute_result",
          "data": {
            "text/plain": [
              "list"
            ]
          },
          "metadata": {},
          "execution_count": 34
        }
      ]
    },
    {
      "cell_type": "code",
      "source": [
        "dataframe_facebook = pd.DataFrame(fas['data'][0]['values'])\n",
        "dataframe_facebook.rename(columns={'value': 'numero fas', 'end_time': 'data'}, inplace=True)\n",
        "dataframe_facebook['data']= pd.to_datetime(dataframe_facebook['data'])\n",
        "dataframe_facebook['data'] =dataframe_facebook['data'].dt.strftime('%y-%m-%d')\n",
        "dataframe_facebook"
      ],
      "metadata": {
        "colab": {
          "base_uri": "https://localhost:8080/",
          "height": 424
        },
        "id": "9ovbTUoMu4JQ",
        "outputId": "c4dc27b5-1602-45c9-f38c-70f92e373292"
      },
      "execution_count": null,
      "outputs": [
        {
          "output_type": "execute_result",
          "data": {
            "text/plain": [
              "    numero fas      data\n",
              "0           38  22-03-08\n",
              "1           39  22-03-09\n",
              "2           49  22-03-10\n",
              "3           52  22-03-11\n",
              "4           52  22-03-12\n",
              "..         ...       ...\n",
              "66         126  22-05-13\n",
              "67         126  22-05-14\n",
              "68         126  22-05-15\n",
              "69         126  22-05-16\n",
              "70         126  22-05-17\n",
              "\n",
              "[71 rows x 2 columns]"
            ],
            "text/html": [
              "\n",
              "  <div id=\"df-43f5c1b5-e37c-4417-baf7-02dc7d296ade\">\n",
              "    <div class=\"colab-df-container\">\n",
              "      <div>\n",
              "<style scoped>\n",
              "    .dataframe tbody tr th:only-of-type {\n",
              "        vertical-align: middle;\n",
              "    }\n",
              "\n",
              "    .dataframe tbody tr th {\n",
              "        vertical-align: top;\n",
              "    }\n",
              "\n",
              "    .dataframe thead th {\n",
              "        text-align: right;\n",
              "    }\n",
              "</style>\n",
              "<table border=\"1\" class=\"dataframe\">\n",
              "  <thead>\n",
              "    <tr style=\"text-align: right;\">\n",
              "      <th></th>\n",
              "      <th>numero fas</th>\n",
              "      <th>data</th>\n",
              "    </tr>\n",
              "  </thead>\n",
              "  <tbody>\n",
              "    <tr>\n",
              "      <th>0</th>\n",
              "      <td>38</td>\n",
              "      <td>22-03-08</td>\n",
              "    </tr>\n",
              "    <tr>\n",
              "      <th>1</th>\n",
              "      <td>39</td>\n",
              "      <td>22-03-09</td>\n",
              "    </tr>\n",
              "    <tr>\n",
              "      <th>2</th>\n",
              "      <td>49</td>\n",
              "      <td>22-03-10</td>\n",
              "    </tr>\n",
              "    <tr>\n",
              "      <th>3</th>\n",
              "      <td>52</td>\n",
              "      <td>22-03-11</td>\n",
              "    </tr>\n",
              "    <tr>\n",
              "      <th>4</th>\n",
              "      <td>52</td>\n",
              "      <td>22-03-12</td>\n",
              "    </tr>\n",
              "    <tr>\n",
              "      <th>...</th>\n",
              "      <td>...</td>\n",
              "      <td>...</td>\n",
              "    </tr>\n",
              "    <tr>\n",
              "      <th>66</th>\n",
              "      <td>126</td>\n",
              "      <td>22-05-13</td>\n",
              "    </tr>\n",
              "    <tr>\n",
              "      <th>67</th>\n",
              "      <td>126</td>\n",
              "      <td>22-05-14</td>\n",
              "    </tr>\n",
              "    <tr>\n",
              "      <th>68</th>\n",
              "      <td>126</td>\n",
              "      <td>22-05-15</td>\n",
              "    </tr>\n",
              "    <tr>\n",
              "      <th>69</th>\n",
              "      <td>126</td>\n",
              "      <td>22-05-16</td>\n",
              "    </tr>\n",
              "    <tr>\n",
              "      <th>70</th>\n",
              "      <td>126</td>\n",
              "      <td>22-05-17</td>\n",
              "    </tr>\n",
              "  </tbody>\n",
              "</table>\n",
              "<p>71 rows × 2 columns</p>\n",
              "</div>\n",
              "      <button class=\"colab-df-convert\" onclick=\"convertToInteractive('df-43f5c1b5-e37c-4417-baf7-02dc7d296ade')\"\n",
              "              title=\"Convert this dataframe to an interactive table.\"\n",
              "              style=\"display:none;\">\n",
              "        \n",
              "  <svg xmlns=\"http://www.w3.org/2000/svg\" height=\"24px\"viewBox=\"0 0 24 24\"\n",
              "       width=\"24px\">\n",
              "    <path d=\"M0 0h24v24H0V0z\" fill=\"none\"/>\n",
              "    <path d=\"M18.56 5.44l.94 2.06.94-2.06 2.06-.94-2.06-.94-.94-2.06-.94 2.06-2.06.94zm-11 1L8.5 8.5l.94-2.06 2.06-.94-2.06-.94L8.5 2.5l-.94 2.06-2.06.94zm10 10l.94 2.06.94-2.06 2.06-.94-2.06-.94-.94-2.06-.94 2.06-2.06.94z\"/><path d=\"M17.41 7.96l-1.37-1.37c-.4-.4-.92-.59-1.43-.59-.52 0-1.04.2-1.43.59L10.3 9.45l-7.72 7.72c-.78.78-.78 2.05 0 2.83L4 21.41c.39.39.9.59 1.41.59.51 0 1.02-.2 1.41-.59l7.78-7.78 2.81-2.81c.8-.78.8-2.07 0-2.86zM5.41 20L4 18.59l7.72-7.72 1.47 1.35L5.41 20z\"/>\n",
              "  </svg>\n",
              "      </button>\n",
              "      \n",
              "  <style>\n",
              "    .colab-df-container {\n",
              "      display:flex;\n",
              "      flex-wrap:wrap;\n",
              "      gap: 12px;\n",
              "    }\n",
              "\n",
              "    .colab-df-convert {\n",
              "      background-color: #E8F0FE;\n",
              "      border: none;\n",
              "      border-radius: 50%;\n",
              "      cursor: pointer;\n",
              "      display: none;\n",
              "      fill: #1967D2;\n",
              "      height: 32px;\n",
              "      padding: 0 0 0 0;\n",
              "      width: 32px;\n",
              "    }\n",
              "\n",
              "    .colab-df-convert:hover {\n",
              "      background-color: #E2EBFA;\n",
              "      box-shadow: 0px 1px 2px rgba(60, 64, 67, 0.3), 0px 1px 3px 1px rgba(60, 64, 67, 0.15);\n",
              "      fill: #174EA6;\n",
              "    }\n",
              "\n",
              "    [theme=dark] .colab-df-convert {\n",
              "      background-color: #3B4455;\n",
              "      fill: #D2E3FC;\n",
              "    }\n",
              "\n",
              "    [theme=dark] .colab-df-convert:hover {\n",
              "      background-color: #434B5C;\n",
              "      box-shadow: 0px 1px 3px 1px rgba(0, 0, 0, 0.15);\n",
              "      filter: drop-shadow(0px 1px 2px rgba(0, 0, 0, 0.3));\n",
              "      fill: #FFFFFF;\n",
              "    }\n",
              "  </style>\n",
              "\n",
              "      <script>\n",
              "        const buttonEl =\n",
              "          document.querySelector('#df-43f5c1b5-e37c-4417-baf7-02dc7d296ade button.colab-df-convert');\n",
              "        buttonEl.style.display =\n",
              "          google.colab.kernel.accessAllowed ? 'block' : 'none';\n",
              "\n",
              "        async function convertToInteractive(key) {\n",
              "          const element = document.querySelector('#df-43f5c1b5-e37c-4417-baf7-02dc7d296ade');\n",
              "          const dataTable =\n",
              "            await google.colab.kernel.invokeFunction('convertToInteractive',\n",
              "                                                     [key], {});\n",
              "          if (!dataTable) return;\n",
              "\n",
              "          const docLinkHtml = 'Like what you see? Visit the ' +\n",
              "            '<a target=\"_blank\" href=https://colab.research.google.com/notebooks/data_table.ipynb>data table notebook</a>'\n",
              "            + ' to learn more about interactive tables.';\n",
              "          element.innerHTML = '';\n",
              "          dataTable['output_type'] = 'display_data';\n",
              "          await google.colab.output.renderOutput(dataTable, element);\n",
              "          const docLink = document.createElement('div');\n",
              "          docLink.innerHTML = docLinkHtml;\n",
              "          element.appendChild(docLink);\n",
              "        }\n",
              "      </script>\n",
              "    </div>\n",
              "  </div>\n",
              "  "
            ]
          },
          "metadata": {},
          "execution_count": 46
        }
      ]
    },
    {
      "cell_type": "code",
      "source": [
        "from plotly import plot\n",
        "grafico = px.line(dataframe_facebook, x='data',y = 'numero fas',title = 'Numero de fãs')\n",
        "grafico.show()"
      ],
      "metadata": {
        "colab": {
          "base_uri": "https://localhost:8080/",
          "height": 542
        },
        "id": "3i6TEsYBx_XX",
        "outputId": "cab86728-febd-47e3-fbe0-c55df6772554"
      },
      "execution_count": null,
      "outputs": [
        {
          "output_type": "display_data",
          "data": {
            "text/html": [
              "<html>\n",
              "<head><meta charset=\"utf-8\" /></head>\n",
              "<body>\n",
              "    <div>            <script src=\"https://cdnjs.cloudflare.com/ajax/libs/mathjax/2.7.5/MathJax.js?config=TeX-AMS-MML_SVG\"></script><script type=\"text/javascript\">if (window.MathJax) {MathJax.Hub.Config({SVG: {font: \"STIX-Web\"}});}</script>                <script type=\"text/javascript\">window.PlotlyConfig = {MathJaxConfig: 'local'};</script>\n",
              "        <script src=\"https://cdn.plot.ly/plotly-2.11.1.min.js\"></script>                <div id=\"00fde44d-5ee9-4743-82cf-5165172bf061\" class=\"plotly-graph-div\" style=\"height:525px; width:100%;\"></div>            <script type=\"text/javascript\">                                    window.PLOTLYENV=window.PLOTLYENV || {};                                    if (document.getElementById(\"00fde44d-5ee9-4743-82cf-5165172bf061\")) {                    Plotly.newPlot(                        \"00fde44d-5ee9-4743-82cf-5165172bf061\",                        [{\"hovertemplate\":\"data=%{x}<br>numero fas=%{y}<extra></extra>\",\"legendgroup\":\"\",\"line\":{\"color\":\"#636efa\",\"dash\":\"solid\"},\"marker\":{\"symbol\":\"circle\"},\"mode\":\"lines\",\"name\":\"\",\"orientation\":\"v\",\"showlegend\":false,\"x\":[\"22-03-08\",\"22-03-09\",\"22-03-10\",\"22-03-11\",\"22-03-12\",\"22-03-13\",\"22-03-14\",\"22-03-15\",\"22-03-16\",\"22-03-17\",\"22-03-18\",\"22-03-19\",\"22-03-20\",\"22-03-21\",\"22-03-22\",\"22-03-23\",\"22-03-24\",\"22-03-25\",\"22-03-26\",\"22-03-27\",\"22-03-28\",\"22-03-29\",\"22-03-30\",\"22-03-31\",\"22-04-01\",\"22-04-02\",\"22-04-03\",\"22-04-04\",\"22-04-05\",\"22-04-06\",\"22-04-07\",\"22-04-08\",\"22-04-09\",\"22-04-10\",\"22-04-11\",\"22-04-12\",\"22-04-13\",\"22-04-14\",\"22-04-15\",\"22-04-16\",\"22-04-17\",\"22-04-18\",\"22-04-19\",\"22-04-20\",\"22-04-21\",\"22-04-22\",\"22-04-23\",\"22-04-24\",\"22-04-25\",\"22-04-26\",\"22-04-27\",\"22-04-28\",\"22-04-29\",\"22-04-30\",\"22-05-01\",\"22-05-02\",\"22-05-03\",\"22-05-04\",\"22-05-05\",\"22-05-06\",\"22-05-07\",\"22-05-08\",\"22-05-09\",\"22-05-10\",\"22-05-11\",\"22-05-12\",\"22-05-13\",\"22-05-14\",\"22-05-15\",\"22-05-16\",\"22-05-17\"],\"xaxis\":\"x\",\"y\":[38,39,49,52,52,53,63,75,76,78,78,79,79,79,79,80,85,100,105,107,108,108,108,111,113,114,114,114,116,116,116,118,118,118,121,121,123,123,123,123,123,123,123,123,123,124,124,124,124,124,124,124,124,125,126,126,126,126,128,126,126,126,126,126,126,126,126,126,126,126,126],\"yaxis\":\"y\",\"type\":\"scatter\"}],                        {\"template\":{\"data\":{\"histogram2dcontour\":[{\"type\":\"histogram2dcontour\",\"colorbar\":{\"outlinewidth\":0,\"ticks\":\"\"},\"colorscale\":[[0.0,\"#0d0887\"],[0.1111111111111111,\"#46039f\"],[0.2222222222222222,\"#7201a8\"],[0.3333333333333333,\"#9c179e\"],[0.4444444444444444,\"#bd3786\"],[0.5555555555555556,\"#d8576b\"],[0.6666666666666666,\"#ed7953\"],[0.7777777777777778,\"#fb9f3a\"],[0.8888888888888888,\"#fdca26\"],[1.0,\"#f0f921\"]]}],\"choropleth\":[{\"type\":\"choropleth\",\"colorbar\":{\"outlinewidth\":0,\"ticks\":\"\"}}],\"histogram2d\":[{\"type\":\"histogram2d\",\"colorbar\":{\"outlinewidth\":0,\"ticks\":\"\"},\"colorscale\":[[0.0,\"#0d0887\"],[0.1111111111111111,\"#46039f\"],[0.2222222222222222,\"#7201a8\"],[0.3333333333333333,\"#9c179e\"],[0.4444444444444444,\"#bd3786\"],[0.5555555555555556,\"#d8576b\"],[0.6666666666666666,\"#ed7953\"],[0.7777777777777778,\"#fb9f3a\"],[0.8888888888888888,\"#fdca26\"],[1.0,\"#f0f921\"]]}],\"heatmap\":[{\"type\":\"heatmap\",\"colorbar\":{\"outlinewidth\":0,\"ticks\":\"\"},\"colorscale\":[[0.0,\"#0d0887\"],[0.1111111111111111,\"#46039f\"],[0.2222222222222222,\"#7201a8\"],[0.3333333333333333,\"#9c179e\"],[0.4444444444444444,\"#bd3786\"],[0.5555555555555556,\"#d8576b\"],[0.6666666666666666,\"#ed7953\"],[0.7777777777777778,\"#fb9f3a\"],[0.8888888888888888,\"#fdca26\"],[1.0,\"#f0f921\"]]}],\"heatmapgl\":[{\"type\":\"heatmapgl\",\"colorbar\":{\"outlinewidth\":0,\"ticks\":\"\"},\"colorscale\":[[0.0,\"#0d0887\"],[0.1111111111111111,\"#46039f\"],[0.2222222222222222,\"#7201a8\"],[0.3333333333333333,\"#9c179e\"],[0.4444444444444444,\"#bd3786\"],[0.5555555555555556,\"#d8576b\"],[0.6666666666666666,\"#ed7953\"],[0.7777777777777778,\"#fb9f3a\"],[0.8888888888888888,\"#fdca26\"],[1.0,\"#f0f921\"]]}],\"contourcarpet\":[{\"type\":\"contourcarpet\",\"colorbar\":{\"outlinewidth\":0,\"ticks\":\"\"}}],\"contour\":[{\"type\":\"contour\",\"colorbar\":{\"outlinewidth\":0,\"ticks\":\"\"},\"colorscale\":[[0.0,\"#0d0887\"],[0.1111111111111111,\"#46039f\"],[0.2222222222222222,\"#7201a8\"],[0.3333333333333333,\"#9c179e\"],[0.4444444444444444,\"#bd3786\"],[0.5555555555555556,\"#d8576b\"],[0.6666666666666666,\"#ed7953\"],[0.7777777777777778,\"#fb9f3a\"],[0.8888888888888888,\"#fdca26\"],[1.0,\"#f0f921\"]]}],\"surface\":[{\"type\":\"surface\",\"colorbar\":{\"outlinewidth\":0,\"ticks\":\"\"},\"colorscale\":[[0.0,\"#0d0887\"],[0.1111111111111111,\"#46039f\"],[0.2222222222222222,\"#7201a8\"],[0.3333333333333333,\"#9c179e\"],[0.4444444444444444,\"#bd3786\"],[0.5555555555555556,\"#d8576b\"],[0.6666666666666666,\"#ed7953\"],[0.7777777777777778,\"#fb9f3a\"],[0.8888888888888888,\"#fdca26\"],[1.0,\"#f0f921\"]]}],\"mesh3d\":[{\"type\":\"mesh3d\",\"colorbar\":{\"outlinewidth\":0,\"ticks\":\"\"}}],\"scatter\":[{\"fillpattern\":{\"fillmode\":\"overlay\",\"size\":10,\"solidity\":0.2},\"type\":\"scatter\"}],\"parcoords\":[{\"type\":\"parcoords\",\"line\":{\"colorbar\":{\"outlinewidth\":0,\"ticks\":\"\"}}}],\"scatterpolargl\":[{\"type\":\"scatterpolargl\",\"marker\":{\"colorbar\":{\"outlinewidth\":0,\"ticks\":\"\"}}}],\"bar\":[{\"error_x\":{\"color\":\"#2a3f5f\"},\"error_y\":{\"color\":\"#2a3f5f\"},\"marker\":{\"line\":{\"color\":\"#E5ECF6\",\"width\":0.5},\"pattern\":{\"fillmode\":\"overlay\",\"size\":10,\"solidity\":0.2}},\"type\":\"bar\"}],\"scattergeo\":[{\"type\":\"scattergeo\",\"marker\":{\"colorbar\":{\"outlinewidth\":0,\"ticks\":\"\"}}}],\"scatterpolar\":[{\"type\":\"scatterpolar\",\"marker\":{\"colorbar\":{\"outlinewidth\":0,\"ticks\":\"\"}}}],\"histogram\":[{\"marker\":{\"pattern\":{\"fillmode\":\"overlay\",\"size\":10,\"solidity\":0.2}},\"type\":\"histogram\"}],\"scattergl\":[{\"type\":\"scattergl\",\"marker\":{\"colorbar\":{\"outlinewidth\":0,\"ticks\":\"\"}}}],\"scatter3d\":[{\"type\":\"scatter3d\",\"line\":{\"colorbar\":{\"outlinewidth\":0,\"ticks\":\"\"}},\"marker\":{\"colorbar\":{\"outlinewidth\":0,\"ticks\":\"\"}}}],\"scattermapbox\":[{\"type\":\"scattermapbox\",\"marker\":{\"colorbar\":{\"outlinewidth\":0,\"ticks\":\"\"}}}],\"scatterternary\":[{\"type\":\"scatterternary\",\"marker\":{\"colorbar\":{\"outlinewidth\":0,\"ticks\":\"\"}}}],\"scattercarpet\":[{\"type\":\"scattercarpet\",\"marker\":{\"colorbar\":{\"outlinewidth\":0,\"ticks\":\"\"}}}],\"carpet\":[{\"aaxis\":{\"endlinecolor\":\"#2a3f5f\",\"gridcolor\":\"white\",\"linecolor\":\"white\",\"minorgridcolor\":\"white\",\"startlinecolor\":\"#2a3f5f\"},\"baxis\":{\"endlinecolor\":\"#2a3f5f\",\"gridcolor\":\"white\",\"linecolor\":\"white\",\"minorgridcolor\":\"white\",\"startlinecolor\":\"#2a3f5f\"},\"type\":\"carpet\"}],\"table\":[{\"cells\":{\"fill\":{\"color\":\"#EBF0F8\"},\"line\":{\"color\":\"white\"}},\"header\":{\"fill\":{\"color\":\"#C8D4E3\"},\"line\":{\"color\":\"white\"}},\"type\":\"table\"}],\"barpolar\":[{\"marker\":{\"line\":{\"color\":\"#E5ECF6\",\"width\":0.5},\"pattern\":{\"fillmode\":\"overlay\",\"size\":10,\"solidity\":0.2}},\"type\":\"barpolar\"}],\"pie\":[{\"automargin\":true,\"type\":\"pie\"}]},\"layout\":{\"autotypenumbers\":\"strict\",\"colorway\":[\"#636efa\",\"#EF553B\",\"#00cc96\",\"#ab63fa\",\"#FFA15A\",\"#19d3f3\",\"#FF6692\",\"#B6E880\",\"#FF97FF\",\"#FECB52\"],\"font\":{\"color\":\"#2a3f5f\"},\"hovermode\":\"closest\",\"hoverlabel\":{\"align\":\"left\"},\"paper_bgcolor\":\"white\",\"plot_bgcolor\":\"#E5ECF6\",\"polar\":{\"bgcolor\":\"#E5ECF6\",\"angularaxis\":{\"gridcolor\":\"white\",\"linecolor\":\"white\",\"ticks\":\"\"},\"radialaxis\":{\"gridcolor\":\"white\",\"linecolor\":\"white\",\"ticks\":\"\"}},\"ternary\":{\"bgcolor\":\"#E5ECF6\",\"aaxis\":{\"gridcolor\":\"white\",\"linecolor\":\"white\",\"ticks\":\"\"},\"baxis\":{\"gridcolor\":\"white\",\"linecolor\":\"white\",\"ticks\":\"\"},\"caxis\":{\"gridcolor\":\"white\",\"linecolor\":\"white\",\"ticks\":\"\"}},\"coloraxis\":{\"colorbar\":{\"outlinewidth\":0,\"ticks\":\"\"}},\"colorscale\":{\"sequential\":[[0.0,\"#0d0887\"],[0.1111111111111111,\"#46039f\"],[0.2222222222222222,\"#7201a8\"],[0.3333333333333333,\"#9c179e\"],[0.4444444444444444,\"#bd3786\"],[0.5555555555555556,\"#d8576b\"],[0.6666666666666666,\"#ed7953\"],[0.7777777777777778,\"#fb9f3a\"],[0.8888888888888888,\"#fdca26\"],[1.0,\"#f0f921\"]],\"sequentialminus\":[[0.0,\"#0d0887\"],[0.1111111111111111,\"#46039f\"],[0.2222222222222222,\"#7201a8\"],[0.3333333333333333,\"#9c179e\"],[0.4444444444444444,\"#bd3786\"],[0.5555555555555556,\"#d8576b\"],[0.6666666666666666,\"#ed7953\"],[0.7777777777777778,\"#fb9f3a\"],[0.8888888888888888,\"#fdca26\"],[1.0,\"#f0f921\"]],\"diverging\":[[0,\"#8e0152\"],[0.1,\"#c51b7d\"],[0.2,\"#de77ae\"],[0.3,\"#f1b6da\"],[0.4,\"#fde0ef\"],[0.5,\"#f7f7f7\"],[0.6,\"#e6f5d0\"],[0.7,\"#b8e186\"],[0.8,\"#7fbc41\"],[0.9,\"#4d9221\"],[1,\"#276419\"]]},\"xaxis\":{\"gridcolor\":\"white\",\"linecolor\":\"white\",\"ticks\":\"\",\"title\":{\"standoff\":15},\"zerolinecolor\":\"white\",\"automargin\":true,\"zerolinewidth\":2},\"yaxis\":{\"gridcolor\":\"white\",\"linecolor\":\"white\",\"ticks\":\"\",\"title\":{\"standoff\":15},\"zerolinecolor\":\"white\",\"automargin\":true,\"zerolinewidth\":2},\"scene\":{\"xaxis\":{\"backgroundcolor\":\"#E5ECF6\",\"gridcolor\":\"white\",\"linecolor\":\"white\",\"showbackground\":true,\"ticks\":\"\",\"zerolinecolor\":\"white\",\"gridwidth\":2},\"yaxis\":{\"backgroundcolor\":\"#E5ECF6\",\"gridcolor\":\"white\",\"linecolor\":\"white\",\"showbackground\":true,\"ticks\":\"\",\"zerolinecolor\":\"white\",\"gridwidth\":2},\"zaxis\":{\"backgroundcolor\":\"#E5ECF6\",\"gridcolor\":\"white\",\"linecolor\":\"white\",\"showbackground\":true,\"ticks\":\"\",\"zerolinecolor\":\"white\",\"gridwidth\":2}},\"shapedefaults\":{\"line\":{\"color\":\"#2a3f5f\"}},\"annotationdefaults\":{\"arrowcolor\":\"#2a3f5f\",\"arrowhead\":0,\"arrowwidth\":1},\"geo\":{\"bgcolor\":\"white\",\"landcolor\":\"#E5ECF6\",\"subunitcolor\":\"white\",\"showland\":true,\"showlakes\":true,\"lakecolor\":\"white\"},\"title\":{\"x\":0.05},\"mapbox\":{\"style\":\"light\"}}},\"xaxis\":{\"anchor\":\"y\",\"domain\":[0.0,1.0],\"title\":{\"text\":\"data\"}},\"yaxis\":{\"anchor\":\"x\",\"domain\":[0.0,1.0],\"title\":{\"text\":\"numero fas\"}},\"legend\":{\"tracegroupgap\":0},\"title\":{\"text\":\"Numero de f\\u00e3s\"}},                        {\"responsive\": true}                    ).then(function(){\n",
              "                            \n",
              "var gd = document.getElementById('00fde44d-5ee9-4743-82cf-5165172bf061');\n",
              "var x = new MutationObserver(function (mutations, observer) {{\n",
              "        var display = window.getComputedStyle(gd).display;\n",
              "        if (!display || display === 'none') {{\n",
              "            console.log([gd, 'removed!']);\n",
              "            Plotly.purge(gd);\n",
              "            observer.disconnect();\n",
              "        }}\n",
              "}});\n",
              "\n",
              "// Listen for the removal of the full notebook cells\n",
              "var notebookContainer = gd.closest('#notebook-container');\n",
              "if (notebookContainer) {{\n",
              "    x.observe(notebookContainer, {childList: true});\n",
              "}}\n",
              "\n",
              "// Listen for the clearing of the current output cell\n",
              "var outputEl = gd.closest('.output');\n",
              "if (outputEl) {{\n",
              "    x.observe(outputEl, {childList: true});\n",
              "}}\n",
              "\n",
              "                        })                };                            </script>        </div>\n",
              "</body>\n",
              "</html>"
            ]
          },
          "metadata": {}
        }
      ]
    },
    {
      "cell_type": "code",
      "source": [
        "fas_idioma = graph.get_connections(id=page_id, connection_name='insights', metric = 'page_fans_locale',\n",
        "                                   since = '2022-02-18 ', untill = '2022-04-05')\n",
        "fas_idioma"
      ],
      "metadata": {
        "colab": {
          "base_uri": "https://localhost:8080/"
        },
        "id": "fdgkXYgiy-l6",
        "outputId": "bb320aeb-5e8f-40a7-af54-8f9189476d77"
      },
      "execution_count": null,
      "outputs": [
        {
          "output_type": "execute_result",
          "data": {
            "text/plain": [
              "{'data': [{'description': 'Lifetime: Aggregated language data about the people who like your Page based on the default language setting selected when accessing Facebook. (Unique Users)',\n",
              "   'id': '101382425841318/insights/page_fans_locale/day',\n",
              "   'name': 'page_fans_locale',\n",
              "   'period': 'day',\n",
              "   'title': 'Lifetime Likes by Language',\n",
              "   'values': [{'end_time': '2022-03-25T07:00:00+0000',\n",
              "     'value': {'pt_BR': 98, 'pt_PT': 2}},\n",
              "    {'end_time': '2022-03-26T07:00:00+0000',\n",
              "     'value': {'pt_BR': 103, 'pt_PT': 2}},\n",
              "    {'end_time': '2022-03-27T07:00:00+0000',\n",
              "     'value': {'pt_BR': 105, 'pt_PT': 2}},\n",
              "    {'end_time': '2022-03-28T07:00:00+0000',\n",
              "     'value': {'pt_BR': 106, 'pt_PT': 2}},\n",
              "    {'end_time': '2022-03-29T07:00:00+0000',\n",
              "     'value': {'pt_BR': 106, 'pt_PT': 2}},\n",
              "    {'end_time': '2022-03-30T07:00:00+0000',\n",
              "     'value': {'pt_BR': 106, 'pt_PT': 2}},\n",
              "    {'end_time': '2022-03-31T07:00:00+0000',\n",
              "     'value': {'pt_BR': 109, 'pt_PT': 2}},\n",
              "    {'end_time': '2022-04-01T07:00:00+0000',\n",
              "     'value': {'pt_BR': 111, 'pt_PT': 2}},\n",
              "    {'end_time': '2022-04-02T07:00:00+0000',\n",
              "     'value': {'pt_BR': 112, 'pt_PT': 2}},\n",
              "    {'end_time': '2022-04-03T07:00:00+0000',\n",
              "     'value': {'pt_BR': 112, 'pt_PT': 2}},\n",
              "    {'end_time': '2022-04-04T07:00:00+0000',\n",
              "     'value': {'pt_BR': 112, 'pt_PT': 2}},\n",
              "    {'end_time': '2022-04-05T07:00:00+0000',\n",
              "     'value': {'pt_BR': 114, 'pt_PT': 2}},\n",
              "    {'end_time': '2022-04-06T07:00:00+0000',\n",
              "     'value': {'pt_BR': 114, 'pt_PT': 2}},\n",
              "    {'end_time': '2022-04-07T07:00:00+0000',\n",
              "     'value': {'pt_BR': 114, 'pt_PT': 2}},\n",
              "    {'end_time': '2022-04-08T07:00:00+0000',\n",
              "     'value': {'pt_BR': 116, 'pt_PT': 2}},\n",
              "    {'end_time': '2022-04-09T07:00:00+0000',\n",
              "     'value': {'pt_BR': 116, 'pt_PT': 2}},\n",
              "    {'end_time': '2022-04-10T07:00:00+0000',\n",
              "     'value': {'pt_BR': 116, 'pt_PT': 2}},\n",
              "    {'end_time': '2022-04-11T07:00:00+0000',\n",
              "     'value': {'pt_BR': 119, 'pt_PT': 2}},\n",
              "    {'end_time': '2022-04-12T07:00:00+0000',\n",
              "     'value': {'pt_BR': 119, 'pt_PT': 2}},\n",
              "    {'end_time': '2022-04-13T07:00:00+0000',\n",
              "     'value': {'pt_BR': 121, 'pt_PT': 2}},\n",
              "    {'end_time': '2022-04-14T07:00:00+0000',\n",
              "     'value': {'pt_BR': 121, 'pt_PT': 2}},\n",
              "    {'end_time': '2022-04-15T07:00:00+0000',\n",
              "     'value': {'pt_BR': 121, 'pt_PT': 2}},\n",
              "    {'end_time': '2022-04-16T07:00:00+0000',\n",
              "     'value': {'pt_BR': 121, 'pt_PT': 2}},\n",
              "    {'end_time': '2022-04-17T07:00:00+0000',\n",
              "     'value': {'pt_BR': 121, 'pt_PT': 2}},\n",
              "    {'end_time': '2022-04-18T07:00:00+0000',\n",
              "     'value': {'pt_BR': 121, 'pt_PT': 2}},\n",
              "    {'end_time': '2022-04-19T07:00:00+0000',\n",
              "     'value': {'pt_BR': 121, 'pt_PT': 2}},\n",
              "    {'end_time': '2022-04-20T07:00:00+0000',\n",
              "     'value': {'pt_BR': 121, 'pt_PT': 2}},\n",
              "    {'end_time': '2022-04-21T07:00:00+0000',\n",
              "     'value': {'pt_BR': 121, 'pt_PT': 2}},\n",
              "    {'end_time': '2022-04-22T07:00:00+0000',\n",
              "     'value': {'pt_BR': 122, 'pt_PT': 2}},\n",
              "    {'end_time': '2022-04-23T07:00:00+0000',\n",
              "     'value': {'pt_BR': 122, 'pt_PT': 2}},\n",
              "    {'end_time': '2022-04-24T07:00:00+0000',\n",
              "     'value': {'pt_BR': 122, 'pt_PT': 2}},\n",
              "    {'end_time': '2022-04-25T07:00:00+0000',\n",
              "     'value': {'pt_BR': 122, 'pt_PT': 2}},\n",
              "    {'end_time': '2022-04-26T07:00:00+0000',\n",
              "     'value': {'pt_BR': 122, 'pt_PT': 2}},\n",
              "    {'end_time': '2022-04-27T07:00:00+0000',\n",
              "     'value': {'pt_BR': 122, 'pt_PT': 2}},\n",
              "    {'end_time': '2022-04-28T07:00:00+0000',\n",
              "     'value': {'pt_BR': 122, 'pt_PT': 2}},\n",
              "    {'end_time': '2022-04-29T07:00:00+0000',\n",
              "     'value': {'pt_BR': 122, 'pt_PT': 2}},\n",
              "    {'end_time': '2022-04-30T07:00:00+0000',\n",
              "     'value': {'pt_BR': 123, 'pt_PT': 2}},\n",
              "    {'end_time': '2022-05-01T07:00:00+0000',\n",
              "     'value': {'pt_BR': 124, 'pt_PT': 2}},\n",
              "    {'end_time': '2022-05-02T07:00:00+0000',\n",
              "     'value': {'pt_BR': 124, 'pt_PT': 2}}]}],\n",
              " 'paging': {'next': 'https://graph.facebook.com/v13.0/101382425841318/insights?access_token=EAAEiGqihOksBAGJf7bj2GJZChMrhTTVTupF5iTUbXhUFUNZC4mIAlkvYfWToGkjZBMZCA5IcXpJv2S6f8wqbPNHxob4jhpnhaSgLdHpP5KJj1iNyRLpHC9PYfOh8k7DZB4hJCIwj2Wd2MKGYTdQZANGkNiVBsZAgJWXe0lWxsZCJMCzXmZA7fAM98&since=1651474800&metric=page_fans_locale&until=1657782000',\n",
              "  'previous': 'https://graph.facebook.com/v13.0/101382425841318/insights?access_token=EAAEiGqihOksBAGJf7bj2GJZChMrhTTVTupF5iTUbXhUFUNZC4mIAlkvYfWToGkjZBMZCA5IcXpJv2S6f8wqbPNHxob4jhpnhaSgLdHpP5KJj1iNyRLpHC9PYfOh8k7DZB4hJCIwj2Wd2MKGYTdQZANGkNiVBsZAgJWXe0lWxsZCJMCzXmZA7fAM98&since=1638864000&metric=page_fans_locale&until=1645171200'}}"
            ]
          },
          "metadata": {},
          "execution_count": 51
        }
      ]
    },
    {
      "cell_type": "code",
      "source": [
        "fas_cidade = graph.get_connections(id=page_id, connection_name='insights', metric= 'page_fans_city',\n",
        "                                 since = '2022-02-18 ', until = '2022-04-05')\n",
        "fas_cidade"
      ],
      "metadata": {
        "colab": {
          "base_uri": "https://localhost:8080/"
        },
        "id": "IuqcSsKj0tkL",
        "outputId": "40ccb25d-8a86-4b6e-c12a-8f933dda8c4c"
      },
      "execution_count": null,
      "outputs": [
        {
          "output_type": "execute_result",
          "data": {
            "text/plain": [
              "{'data': [{'description': 'Lifetime: Aggregated Facebook location data, sorted by city (top 50), about the people who like your Page. (Unique Users)',\n",
              "   'id': '101382425841318/insights/page_fans_city/day',\n",
              "   'name': 'page_fans_city',\n",
              "   'period': 'day',\n",
              "   'title': 'Lifetime Likes by City',\n",
              "   'values': [{'end_time': '2022-03-25T07:00:00+0000',\n",
              "     'value': {'Araucária, PR': 4,\n",
              "      'Campo Largo, PR': 1,\n",
              "      'Cascavel, PR': 1,\n",
              "      'Curitiba, PR': 15,\n",
              "      'Fazenda Rio Grande, PR': 72,\n",
              "      'Itapema, SC': 1,\n",
              "      'Mandirituba, PR': 4,\n",
              "      'Nova Trento, SC': 1,\n",
              "      'São José dos Pinhais, PR': 1}},\n",
              "    {'end_time': '2022-03-26T07:00:00+0000',\n",
              "     'value': {'Araucária, PR': 6,\n",
              "      'Campo Largo, PR': 1,\n",
              "      'Cascavel, PR': 1,\n",
              "      'Curitiba, PR': 15,\n",
              "      'Fazenda Rio Grande, PR': 74,\n",
              "      'Itapema, SC': 1,\n",
              "      'Mandirituba, PR': 5,\n",
              "      'Nova Trento, SC': 1,\n",
              "      'São José dos Pinhais, PR': 1}},\n",
              "    {'end_time': '2022-03-27T07:00:00+0000',\n",
              "     'value': {'Araucária, PR': 6,\n",
              "      'Campo Largo, PR': 1,\n",
              "      'Cascavel, PR': 1,\n",
              "      'Curitiba, PR': 15,\n",
              "      'Fazenda Rio Grande, PR': 75,\n",
              "      'Itapema, SC': 1,\n",
              "      'Mandirituba, PR': 6,\n",
              "      'Nova Trento, SC': 1,\n",
              "      'São José dos Pinhais, PR': 1}},\n",
              "    {'end_time': '2022-03-28T07:00:00+0000',\n",
              "     'value': {'Araucária, PR': 6,\n",
              "      'Campo Largo, PR': 1,\n",
              "      'Cascavel, PR': 1,\n",
              "      'Curitiba, PR': 15,\n",
              "      'Fazenda Rio Grande, PR': 76,\n",
              "      'Itapema, SC': 1,\n",
              "      'Mandirituba, PR': 6,\n",
              "      'Nova Trento, SC': 1,\n",
              "      'São José dos Pinhais, PR': 1}},\n",
              "    {'end_time': '2022-03-29T07:00:00+0000',\n",
              "     'value': {'Araucária, PR': 6,\n",
              "      'Campo Largo, PR': 1,\n",
              "      'Cascavel, PR': 1,\n",
              "      'Curitiba, PR': 15,\n",
              "      'Fazenda Rio Grande, PR': 76,\n",
              "      'Itapema, SC': 1,\n",
              "      'Mandirituba, PR': 6,\n",
              "      'Nova Trento, SC': 1,\n",
              "      'São José dos Pinhais, PR': 1}},\n",
              "    {'end_time': '2022-03-30T07:00:00+0000',\n",
              "     'value': {'Araucária, PR': 6,\n",
              "      'Areia Branca dos Assis, PR': 1,\n",
              "      'Campo Largo, PR': 1,\n",
              "      'Cascavel, PR': 1,\n",
              "      'Curitiba, PR': 15,\n",
              "      'Fazenda Rio Grande, PR': 76,\n",
              "      'Itapema, SC': 1,\n",
              "      'Mandirituba, PR': 5,\n",
              "      'Nova Trento, SC': 1,\n",
              "      'São José dos Pinhais, PR': 1}},\n",
              "    {'end_time': '2022-03-31T07:00:00+0000',\n",
              "     'value': {'Araucária, PR': 6,\n",
              "      'Areia Branca dos Assis, PR': 1,\n",
              "      'Campo Largo, PR': 1,\n",
              "      'Cascavel, PR': 1,\n",
              "      'Curitiba, PR': 15,\n",
              "      'Fazenda Rio Grande, PR': 79,\n",
              "      'Itapema, SC': 1,\n",
              "      'Mandirituba, PR': 5,\n",
              "      'Nova Trento, SC': 1,\n",
              "      'São José dos Pinhais, PR': 1}},\n",
              "    {'end_time': '2022-04-01T07:00:00+0000',\n",
              "     'value': {'Araucária, PR': 6,\n",
              "      'Areia Branca dos Assis, PR': 1,\n",
              "      'Campo Largo, PR': 1,\n",
              "      'Cascavel, PR': 1,\n",
              "      'Curitiba, PR': 15,\n",
              "      'Fazenda Rio Grande, PR': 81,\n",
              "      'Itapema, SC': 1,\n",
              "      'Mandirituba, PR': 5,\n",
              "      'Nova Trento, SC': 1,\n",
              "      'São José dos Pinhais, PR': 1}},\n",
              "    {'end_time': '2022-04-02T07:00:00+0000',\n",
              "     'value': {'Araucária, PR': 6,\n",
              "      'Areia Branca dos Assis, PR': 1,\n",
              "      'Campo Largo, PR': 1,\n",
              "      'Cascavel, PR': 1,\n",
              "      'Curitiba, PR': 16,\n",
              "      'Fazenda Rio Grande, PR': 81,\n",
              "      'Itapema, SC': 1,\n",
              "      'Mandirituba, PR': 5,\n",
              "      'Nova Trento, SC': 1,\n",
              "      'São José dos Pinhais, PR': 1}},\n",
              "    {'end_time': '2022-04-03T07:00:00+0000',\n",
              "     'value': {'Araucária, PR': 6,\n",
              "      'Areia Branca dos Assis, PR': 1,\n",
              "      'Campo Largo, PR': 1,\n",
              "      'Cascavel, PR': 1,\n",
              "      'Curitiba, PR': 16,\n",
              "      'Fazenda Rio Grande, PR': 80,\n",
              "      'Itapema, SC': 1,\n",
              "      'Mandirituba, PR': 5,\n",
              "      'Nova Trento, SC': 1,\n",
              "      'São José dos Pinhais, PR': 1,\n",
              "      'Videira, SC': 1}},\n",
              "    {'end_time': '2022-04-04T07:00:00+0000',\n",
              "     'value': {'Araucária, PR': 6,\n",
              "      'Campo Largo, PR': 1,\n",
              "      'Cascavel, PR': 1,\n",
              "      'Curitiba, PR': 16,\n",
              "      'Fazenda Rio Grande, PR': 80,\n",
              "      'Itapema, SC': 1,\n",
              "      'Mandirituba, PR': 6,\n",
              "      'Nova Trento, SC': 1,\n",
              "      'São José dos Pinhais, PR': 1,\n",
              "      'Videira, SC': 1}}]}],\n",
              " 'paging': {'next': 'https://graph.facebook.com/v13.0/101382425841318/insights?access_token=EAAEiGqihOksBAGJf7bj2GJZChMrhTTVTupF5iTUbXhUFUNZC4mIAlkvYfWToGkjZBMZCA5IcXpJv2S6f8wqbPNHxob4jhpnhaSgLdHpP5KJj1iNyRLpHC9PYfOh8k7DZB4hJCIwj2Wd2MKGYTdQZANGkNiVBsZAgJWXe0lWxsZCJMCzXmZA7fAM98&since=1649055600&until=1652943600&metric=page_fans_city',\n",
              "  'previous': 'https://graph.facebook.com/v13.0/101382425841318/insights?access_token=EAAEiGqihOksBAGJf7bj2GJZChMrhTTVTupF5iTUbXhUFUNZC4mIAlkvYfWToGkjZBMZCA5IcXpJv2S6f8wqbPNHxob4jhpnhaSgLdHpP5KJj1iNyRLpHC9PYfOh8k7DZB4hJCIwj2Wd2MKGYTdQZANGkNiVBsZAgJWXe0lWxsZCJMCzXmZA7fAM98&since=1641283200&until=1645171200&metric=page_fans_city'}}"
            ]
          },
          "metadata": {},
          "execution_count": 61
        }
      ]
    },
    {
      "cell_type": "code",
      "source": [
        "fas_cidade['data'][0]['values'][0]"
      ],
      "metadata": {
        "colab": {
          "base_uri": "https://localhost:8080/"
        },
        "id": "DGMZYzCp2c2G",
        "outputId": "24e51a42-8013-4fb2-9f7b-1f82c043f4b8"
      },
      "execution_count": null,
      "outputs": [
        {
          "output_type": "execute_result",
          "data": {
            "text/plain": [
              "{'end_time': '2022-03-25T07:00:00+0000',\n",
              " 'value': {'Araucária, PR': 4,\n",
              "  'Campo Largo, PR': 1,\n",
              "  'Cascavel, PR': 1,\n",
              "  'Curitiba, PR': 15,\n",
              "  'Fazenda Rio Grande, PR': 72,\n",
              "  'Itapema, SC': 1,\n",
              "  'Mandirituba, PR': 4,\n",
              "  'Nova Trento, SC': 1,\n",
              "  'São José dos Pinhais, PR': 1}}"
            ]
          },
          "metadata": {},
          "execution_count": 70
        }
      ]
    },
    {
      "cell_type": "code",
      "source": [
        "\n",
        "fas_cidade_df = pd.DataFrame.from_dict(fas_cidade['data'][0]['values'][0], orient='index')\n",
        "fas_cidade_df.reset_index(inplace = True)\n",
        "fas_cidade_df.rename(columns= {'index':'cidade', 0: 'quantidade' }, inplace= True )"
      ],
      "metadata": {
        "colab": {
          "base_uri": "https://localhost:8080/",
          "height": 432
        },
        "id": "bYKQu_iu3Dgw",
        "outputId": "b51fef15-dcd4-4e3a-9743-259608ff1ccc"
      },
      "execution_count": null,
      "outputs": [
        {
          "output_type": "error",
          "ename": "AttributeError",
          "evalue": "ignored",
          "traceback": [
            "\u001b[0;31m---------------------------------------------------------------------------\u001b[0m",
            "\u001b[0;31mAttributeError\u001b[0m                            Traceback (most recent call last)",
            "\u001b[0;32m<ipython-input-75-6955aebbe9e1>\u001b[0m in \u001b[0;36m<module>\u001b[0;34m()\u001b[0m\n\u001b[1;32m      1\u001b[0m \u001b[0;34m\u001b[0m\u001b[0m\n\u001b[0;32m----> 2\u001b[0;31m \u001b[0mfas_cidade_df\u001b[0m \u001b[0;34m=\u001b[0m \u001b[0mpd\u001b[0m\u001b[0;34m.\u001b[0m\u001b[0mDataFrame\u001b[0m\u001b[0;34m.\u001b[0m\u001b[0mfrom_dict\u001b[0m\u001b[0;34m(\u001b[0m\u001b[0mfas_cidade\u001b[0m\u001b[0;34m[\u001b[0m\u001b[0;34m'data'\u001b[0m\u001b[0;34m]\u001b[0m\u001b[0;34m[\u001b[0m\u001b[0;36m0\u001b[0m\u001b[0;34m]\u001b[0m\u001b[0;34m[\u001b[0m\u001b[0;34m'values'\u001b[0m\u001b[0;34m]\u001b[0m\u001b[0;34m[\u001b[0m\u001b[0;36m0\u001b[0m\u001b[0;34m]\u001b[0m\u001b[0;34m,\u001b[0m \u001b[0morient\u001b[0m\u001b[0;34m=\u001b[0m\u001b[0;34m'index'\u001b[0m\u001b[0;34m)\u001b[0m\u001b[0;34m\u001b[0m\u001b[0;34m\u001b[0m\u001b[0m\n\u001b[0m\u001b[1;32m      3\u001b[0m \u001b[0mfas_cidade_df\u001b[0m\u001b[0;34m.\u001b[0m\u001b[0mreset_index\u001b[0m\u001b[0;34m(\u001b[0m\u001b[0minplace\u001b[0m \u001b[0;34m=\u001b[0m \u001b[0;32mTrue\u001b[0m\u001b[0;34m)\u001b[0m\u001b[0;34m\u001b[0m\u001b[0;34m\u001b[0m\u001b[0m\n\u001b[1;32m      4\u001b[0m \u001b[0mfas_cidade_df\u001b[0m\u001b[0;34m.\u001b[0m\u001b[0mrename\u001b[0m\u001b[0;34m(\u001b[0m\u001b[0mcolumns\u001b[0m\u001b[0;34m=\u001b[0m \u001b[0;34m{\u001b[0m\u001b[0;34m'index'\u001b[0m\u001b[0;34m:\u001b[0m\u001b[0;34m'cidade'\u001b[0m\u001b[0;34m,\u001b[0m \u001b[0;36m0\u001b[0m\u001b[0;34m:\u001b[0m \u001b[0;34m'quantidade'\u001b[0m \u001b[0;34m}\u001b[0m\u001b[0;34m,\u001b[0m \u001b[0minplace\u001b[0m\u001b[0;34m=\u001b[0m \u001b[0;32mTrue\u001b[0m \u001b[0;34m)\u001b[0m\u001b[0;34m\u001b[0m\u001b[0;34m\u001b[0m\u001b[0m\n",
            "\u001b[0;32m/usr/local/lib/python3.7/dist-packages/pandas/core/frame.py\u001b[0m in \u001b[0;36mfrom_dict\u001b[0;34m(cls, data, orient, dtype, columns)\u001b[0m\n\u001b[1;32m   1582\u001b[0m                 \u001b[0;31m# TODO speed up Series case\u001b[0m\u001b[0;34m\u001b[0m\u001b[0;34m\u001b[0m\u001b[0;34m\u001b[0m\u001b[0m\n\u001b[1;32m   1583\u001b[0m                 \u001b[0;32mif\u001b[0m \u001b[0misinstance\u001b[0m\u001b[0;34m(\u001b[0m\u001b[0mlist\u001b[0m\u001b[0;34m(\u001b[0m\u001b[0mdata\u001b[0m\u001b[0;34m.\u001b[0m\u001b[0mvalues\u001b[0m\u001b[0;34m(\u001b[0m\u001b[0;34m)\u001b[0m\u001b[0;34m)\u001b[0m\u001b[0;34m[\u001b[0m\u001b[0;36m0\u001b[0m\u001b[0;34m]\u001b[0m\u001b[0;34m,\u001b[0m \u001b[0;34m(\u001b[0m\u001b[0mSeries\u001b[0m\u001b[0;34m,\u001b[0m \u001b[0mdict\u001b[0m\u001b[0;34m)\u001b[0m\u001b[0;34m)\u001b[0m\u001b[0;34m:\u001b[0m\u001b[0;34m\u001b[0m\u001b[0;34m\u001b[0m\u001b[0m\n\u001b[0;32m-> 1584\u001b[0;31m                     \u001b[0mdata\u001b[0m \u001b[0;34m=\u001b[0m \u001b[0m_from_nested_dict\u001b[0m\u001b[0;34m(\u001b[0m\u001b[0mdata\u001b[0m\u001b[0;34m)\u001b[0m\u001b[0;34m\u001b[0m\u001b[0;34m\u001b[0m\u001b[0m\n\u001b[0m\u001b[1;32m   1585\u001b[0m                 \u001b[0;32melse\u001b[0m\u001b[0;34m:\u001b[0m\u001b[0;34m\u001b[0m\u001b[0;34m\u001b[0m\u001b[0m\n\u001b[1;32m   1586\u001b[0m                     \u001b[0mdata\u001b[0m\u001b[0;34m,\u001b[0m \u001b[0mindex\u001b[0m \u001b[0;34m=\u001b[0m \u001b[0mlist\u001b[0m\u001b[0;34m(\u001b[0m\u001b[0mdata\u001b[0m\u001b[0;34m.\u001b[0m\u001b[0mvalues\u001b[0m\u001b[0;34m(\u001b[0m\u001b[0;34m)\u001b[0m\u001b[0;34m)\u001b[0m\u001b[0;34m,\u001b[0m \u001b[0mlist\u001b[0m\u001b[0;34m(\u001b[0m\u001b[0mdata\u001b[0m\u001b[0;34m.\u001b[0m\u001b[0mkeys\u001b[0m\u001b[0;34m(\u001b[0m\u001b[0;34m)\u001b[0m\u001b[0;34m)\u001b[0m\u001b[0;34m\u001b[0m\u001b[0;34m\u001b[0m\u001b[0m\n",
            "\u001b[0;32m/usr/local/lib/python3.7/dist-packages/pandas/core/frame.py\u001b[0m in \u001b[0;36m_from_nested_dict\u001b[0;34m(data)\u001b[0m\n\u001b[1;32m  10760\u001b[0m     \u001b[0mnew_data\u001b[0m\u001b[0;34m:\u001b[0m \u001b[0mcollections\u001b[0m\u001b[0;34m.\u001b[0m\u001b[0mdefaultdict\u001b[0m \u001b[0;34m=\u001b[0m \u001b[0mcollections\u001b[0m\u001b[0;34m.\u001b[0m\u001b[0mdefaultdict\u001b[0m\u001b[0;34m(\u001b[0m\u001b[0mdict\u001b[0m\u001b[0;34m)\u001b[0m\u001b[0;34m\u001b[0m\u001b[0;34m\u001b[0m\u001b[0m\n\u001b[1;32m  10761\u001b[0m     \u001b[0;32mfor\u001b[0m \u001b[0mindex\u001b[0m\u001b[0;34m,\u001b[0m \u001b[0ms\u001b[0m \u001b[0;32min\u001b[0m \u001b[0mdata\u001b[0m\u001b[0;34m.\u001b[0m\u001b[0mitems\u001b[0m\u001b[0;34m(\u001b[0m\u001b[0;34m)\u001b[0m\u001b[0;34m:\u001b[0m\u001b[0;34m\u001b[0m\u001b[0;34m\u001b[0m\u001b[0m\n\u001b[0;32m> 10762\u001b[0;31m         \u001b[0;32mfor\u001b[0m \u001b[0mcol\u001b[0m\u001b[0;34m,\u001b[0m \u001b[0mv\u001b[0m \u001b[0;32min\u001b[0m \u001b[0ms\u001b[0m\u001b[0;34m.\u001b[0m\u001b[0mitems\u001b[0m\u001b[0;34m(\u001b[0m\u001b[0;34m)\u001b[0m\u001b[0;34m:\u001b[0m\u001b[0;34m\u001b[0m\u001b[0;34m\u001b[0m\u001b[0m\n\u001b[0m\u001b[1;32m  10763\u001b[0m             \u001b[0mnew_data\u001b[0m\u001b[0;34m[\u001b[0m\u001b[0mcol\u001b[0m\u001b[0;34m]\u001b[0m\u001b[0;34m[\u001b[0m\u001b[0mindex\u001b[0m\u001b[0;34m]\u001b[0m \u001b[0;34m=\u001b[0m \u001b[0mv\u001b[0m\u001b[0;34m\u001b[0m\u001b[0;34m\u001b[0m\u001b[0m\n\u001b[1;32m  10764\u001b[0m     \u001b[0;32mreturn\u001b[0m \u001b[0mnew_data\u001b[0m\u001b[0;34m\u001b[0m\u001b[0;34m\u001b[0m\u001b[0m\n",
            "\u001b[0;31mAttributeError\u001b[0m: 'str' object has no attribute 'items'"
          ]
        }
      ]
    }
  ]
}